{
  "nbformat": 4,
  "nbformat_minor": 0,
  "metadata": {
    "colab": {
      "provenance": []
    },
    "kernelspec": {
      "name": "python3",
      "display_name": "Python 3"
    },
    "language_info": {
      "name": "python"
    }
  },
  "cells": [
    {
      "cell_type": "markdown",
      "source": [
        "##**1) Write a Python program to print \"Hello, World!_**"
      ],
      "metadata": {
        "id": "wwfweDYDKflE"
      }
    },
    {
      "cell_type": "code",
      "source": [
        "print(\"Hello, World!\")"
      ],
      "metadata": {
        "colab": {
          "base_uri": "https://localhost:8080/"
        },
        "id": "9OwTJAjKKVav",
        "outputId": "62eda1a6-3736-4550-86ef-45a1d70b421a"
      },
      "execution_count": 1,
      "outputs": [
        {
          "output_type": "stream",
          "name": "stdout",
          "text": [
            "Hello, World!\n"
          ]
        }
      ]
    },
    {
      "cell_type": "markdown",
      "source": [
        "## 2) **Write a Python program that displays your name and age**"
      ],
      "metadata": {
        "id": "jpK2JnPAKl1Z"
      }
    },
    {
      "cell_type": "code",
      "source": [
        "name = 'Devang Soni'\n",
        "age = 20\n",
        "print(name)\n",
        "print(age)"
      ],
      "metadata": {
        "colab": {
          "base_uri": "https://localhost:8080/"
        },
        "id": "YYYDrt5NKqRO",
        "outputId": "8adc7f4f-b6e0-4996-b90b-f6070d01c68e"
      },
      "execution_count": 6,
      "outputs": [
        {
          "output_type": "stream",
          "name": "stdout",
          "text": [
            "Devang Soni\n",
            "20\n"
          ]
        }
      ]
    },
    {
      "cell_type": "markdown",
      "source": [
        "## 3) Write code to print all the pre-defined keywords in Python using the keyword library"
      ],
      "metadata": {
        "id": "uTS-iOfcLbzc"
      }
    },
    {
      "cell_type": "code",
      "source": [
        "import keyword\n",
        "\n",
        "# Get the list of Python keywords\n",
        "keywords = keyword.kwlist\n",
        "\n",
        "# Print each keyword\n",
        "for kw in keywords:\n",
        "    print(kw)\n"
      ],
      "metadata": {
        "id": "3J1Hi4gSK1th"
      },
      "execution_count": null,
      "outputs": []
    },
    {
      "cell_type": "markdown",
      "source": [
        "## 4) **Write a program that checks if a given word is a Python keyword**"
      ],
      "metadata": {
        "id": "aoC94JUiLuk3"
      }
    },
    {
      "cell_type": "code",
      "source": [
        "import keyword\n",
        "\n",
        "# Input from the user\n",
        "word = input(\"Enter a word to check if it's a Python keyword: \")\n",
        "\n",
        "# Check if the word is a keyword\n",
        "if keyword.iskeyword(word):\n",
        "    print(f\"'{word}' is a Python keyword.\")\n",
        "else:\n",
        "    print(f\"'{word}' is NOT a Python keyword.\")\n"
      ],
      "metadata": {
        "id": "4DVXHRaEL1ac"
      },
      "execution_count": null,
      "outputs": []
    },
    {
      "cell_type": "markdown",
      "source": [
        "## 5)**Create a list and tuple in Python, and demonstrate how attempting to change an element works differently for each**"
      ],
      "metadata": {
        "id": "BPQJ7GoLL6u5"
      }
    },
    {
      "cell_type": "code",
      "source": [
        "# Creating a list\n",
        "my_list = [1, 2, 3, 4]\n",
        "print(\"Original List:\", my_list)\n",
        "\n",
        "# Attempt to change an element in the list\n",
        "my_list[2] = 100\n",
        "print(\"Modified List:\", my_list)\n",
        "\n",
        "# Creating a tuple\n",
        "my_tuple = (1, 2, 3, 4)\n",
        "print(\"\\nOriginal Tuple:\", my_tuple)\n",
        "\n",
        "# Attempt to change an element in the tuple\n",
        "try:\n",
        "    my_tuple[2] = 100  # This will raise an error since tuples are immutable\n",
        "except TypeError as e:\n",
        "    print(\"Error while modifying tuple:\", e)\n"
      ],
      "metadata": {
        "id": "9ix6FhE1MCMu"
      },
      "execution_count": null,
      "outputs": []
    },
    {
      "cell_type": "markdown",
      "source": [
        "## 6) Write a function to demonstrate the behavior of mutable and immutable arguments\n",
        ""
      ],
      "metadata": {
        "id": "53BuiCqRMHRB"
      }
    },
    {
      "cell_type": "code",
      "source": [
        "# Function to demonstrate mutable and immutable argument behavior\n",
        "def demonstrate_mutable_immutable(mutable_arg, immutable_arg):\n",
        "    print(\"Original mutable argument:\", mutable_arg)\n",
        "    print(\"Original immutable argument:\", immutable_arg)\n",
        "\n",
        "    # Modify the mutable argument (list)\n",
        "    mutable_arg.append(100)\n",
        "    print(\"Modified mutable argument:\", mutable_arg)\n",
        "\n",
        "    # Try to modify the immutable argument (integer)\n",
        "    immutable_arg += 10\n",
        "    print(\"Modified immutable argument:\", immutable_arg)\n",
        "\n",
        "# Calling the function with mutable and immutable arguments\n",
        "my_list = [1, 2, 3]\n",
        "my_num = 50\n",
        "\n",
        "demonstrate_mutable_immutable(my_list, my_num)\n",
        "\n",
        "# Checking the values after the function call\n",
        "print(\"\\nOutside function - Final mutable argument:\", my_list)\n",
        "print(\"Outside function - Final immutable argument:\", my_num)\n"
      ],
      "metadata": {
        "id": "r4OQ65mwMOwX"
      },
      "execution_count": null,
      "outputs": []
    },
    {
      "cell_type": "markdown",
      "source": [
        "## 7) **Write a function to demonstrate the behavior of mutable and immutable arguments**"
      ],
      "metadata": {
        "id": "EnWhLlmiMX-2"
      }
    },
    {
      "cell_type": "code",
      "source": [
        "# Function to demonstrate mutable and immutable argument behavior\n",
        "def demonstrate_mutable_immutable(mutable_arg, immutable_arg):\n",
        "    print(\"Before modification:\")\n",
        "    print(\"Mutable argument:\", mutable_arg)\n",
        "    print(\"Immutable argument:\", immutable_arg)\n",
        "\n",
        "    # Modifying the mutable argument (list)\n",
        "    mutable_arg.append(100)\n",
        "    print(\"\\nAfter modifying mutable argument:\")\n",
        "    print(\"Mutable argument:\", mutable_arg)\n",
        "\n",
        "    # Modifying the immutable argument (integer)\n",
        "    immutable_arg += 10\n",
        "    print(\"\\nAfter modifying immutable argument:\")\n",
        "    print(\"Immutable argument:\", immutable_arg)\n",
        "\n",
        "\n",
        "# Test with mutable (list) and immutable (integer) arguments\n",
        "my_list = [1, 2, 3]\n",
        "my_num = 50\n",
        "\n",
        "demonstrate_mutable_immutable(my_list, my_num)\n",
        "\n",
        "# Checking the values outside the function after modification\n",
        "print(\"\\nOutside function - Final mutable argument:\", my_list)\n",
        "print(\"Outside function - Final immutable argument:\", my_num)\n"
      ],
      "metadata": {
        "id": "6dlFy2EBMhbj"
      },
      "execution_count": null,
      "outputs": []
    },
    {
      "cell_type": "markdown",
      "source": [
        "## 8) **Write a program to demonstrate the use of logical operators**"
      ],
      "metadata": {
        "id": "j_CBO_jOMjfH"
      }
    },
    {
      "cell_type": "code",
      "source": [
        "# Demonstrating logical operators: and, or, not\n",
        "\n",
        "# Input values\n",
        "a = 5\n",
        "b = 10\n",
        "c = 15\n",
        "\n",
        "# Using 'and' logical operator\n",
        "print(\"Using 'and' operator:\")\n",
        "if a < b and b < c:\n",
        "    print(f\"a ({a}) is less than b ({b}), and b ({b}) is less than c ({c})\")\n",
        "\n",
        "# Using 'or' logical operator\n",
        "print(\"\\nUsing 'or' operator:\")\n",
        "if a > b or b < c:\n",
        "    print(f\"Either a ({a}) is greater than b ({b}), or b ({b}) is less than c ({c})\")\n",
        "\n",
        "# Using 'not' logical operator\n",
        "print(\"\\nUsing 'not' operator:\")\n",
        "if not a > b:\n",
        "    print(f\"Not a ({a}) is greater than b ({b}), which means a is not greater than b\")\n",
        "\n",
        "# Combining multiple logical operators\n",
        "print(\"\\nCombining logical operators:\")\n",
        "if a < b and not b > c:\n",
        "    print(f\"a ({a}) is less than b ({b}), and b ({b}) is not greater than c ({c})\")\n"
      ],
      "metadata": {
        "id": "1lDjaHS1MqGB"
      },
      "execution_count": null,
      "outputs": []
    },
    {
      "cell_type": "markdown",
      "source": [
        "## 9) *Write a Python program to convert user input from string to integer, float, and boolean types"
      ],
      "metadata": {
        "id": "lOL-SlKTMym8"
      }
    },
    {
      "cell_type": "code",
      "source": [
        "# First we'll take a user input, and then convert it\n",
        "userinput = input(\"Please enter a number: \")\n",
        "print(type(int(userinput)))\n",
        "\n",
        "print(type(float(userinput)))\n",
        "\n",
        "print(type(bool(userinput)))"
      ],
      "metadata": {
        "colab": {
          "base_uri": "https://localhost:8080/"
        },
        "id": "EAI3lFZ8M7GH",
        "outputId": "592ddecd-cd9d-4d52-9aa4-a149cf1e26cf"
      },
      "execution_count": 12,
      "outputs": [
        {
          "output_type": "stream",
          "name": "stdout",
          "text": [
            "Please enter a number: 5\n",
            "<class 'int'>\n",
            "<class 'float'>\n",
            "<class 'bool'>\n"
          ]
        }
      ]
    },
    {
      "cell_type": "markdown",
      "source": [
        "## 10) **Write code to demonstrate type casting with list elements**"
      ],
      "metadata": {
        "id": "M_mmyfj9N3hA"
      }
    },
    {
      "cell_type": "code",
      "source": [
        "# Type casting with list elements\n",
        "\n",
        "# List with different types of elements\n",
        "mixed_list = ['1', '2', '3', '4.5', 'True']\n",
        "\n",
        "# Print original list\n",
        "print(\"Original list:\", mixed_list)\n",
        "\n",
        "# Convert string numbers to integers\n",
        "int_list = [int(item) for item in mixed_list[:4]]  # Convert first 4 elements to integers\n",
        "print(\"\\nList with integers:\", int_list)\n",
        "\n",
        "# Convert string to float\n",
        "float_list = [float(item) if '.' in item else int(item) for item in mixed_list[:4]]  # Convert to float where applicable\n",
        "print(\"\\nList with float elements:\", float_list)\n",
        "\n",
        "# Convert strings representing boolean values to boolean type\n",
        "bool_list = [item == 'True' for item in mixed_list[4:]]  # Convert to boolean based on string match\n",
        "print(\"\\nList with boolean values:\", bool_list)\n"
      ],
      "metadata": {
        "id": "I2kmWCh9N_WZ"
      },
      "execution_count": null,
      "outputs": []
    },
    {
      "cell_type": "markdown",
      "source": [
        "## 11) **Write a program that checks if a number is positive, negative, or zero**"
      ],
      "metadata": {
        "id": "7dPna3vJOON4"
      }
    },
    {
      "cell_type": "code",
      "source": [
        "# We will take the number as input from user\n",
        "number = int(input(\"please enter a number: \"))\n",
        "if number > 0:\n",
        "  print(number, \"is a positive number \")\n",
        "\n",
        "elif number < 0:\n",
        "  print(number, \"is a negative number\")\n",
        "\n",
        "else:\n",
        "  print(number, \"is zero\")"
      ],
      "metadata": {
        "colab": {
          "base_uri": "https://localhost:8080/"
        },
        "id": "dbv7C6wFOUVk",
        "outputId": "38a9d1a9-1000-40fa-ba1b-d5a371124436"
      },
      "execution_count": 17,
      "outputs": [
        {
          "output_type": "stream",
          "name": "stdout",
          "text": [
            "please enter a number: 0\n",
            "0 is zero\n"
          ]
        }
      ]
    },
    {
      "cell_type": "markdown",
      "source": [
        "## 12) **Write a for loop to print numbers from 1 to 10**"
      ],
      "metadata": {
        "id": "lb1JPzWRPAD6"
      }
    },
    {
      "cell_type": "code",
      "source": [
        "for i in range(1,11):\n",
        "  print(i,end=\" \")"
      ],
      "metadata": {
        "colab": {
          "base_uri": "https://localhost:8080/"
        },
        "id": "WnDulsTVPC-E",
        "outputId": "e291f0f1-8931-4151-efd9-717e71ba4b70"
      },
      "execution_count": 20,
      "outputs": [
        {
          "output_type": "stream",
          "name": "stdout",
          "text": [
            "1 2 3 4 5 6 7 8 9 10 "
          ]
        }
      ]
    },
    {
      "cell_type": "markdown",
      "source": [
        "## 13) Write a Python program to find the sum of all even numbers between 1 and 50"
      ],
      "metadata": {
        "id": "ozsLybESPXKe"
      }
    },
    {
      "cell_type": "code",
      "source": [
        "total = 0\n",
        "for i in range(1,51):\n",
        "  if i % 2 == 0:\n",
        "    total += i\n",
        "\n",
        "print(total)"
      ],
      "metadata": {
        "colab": {
          "base_uri": "https://localhost:8080/"
        },
        "id": "y6xaujA6Paq_",
        "outputId": "43130529-16f9-4abc-c62f-710f715244ed"
      },
      "execution_count": 31,
      "outputs": [
        {
          "output_type": "stream",
          "name": "stdout",
          "text": [
            "650\n"
          ]
        }
      ]
    },
    {
      "cell_type": "markdown",
      "source": [
        " ## 14) **Write a program to reverse a string using a while loop**"
      ],
      "metadata": {
        "id": "yQ2ygnFGREN3"
      }
    },
    {
      "cell_type": "code",
      "source": [
        "string = \"Hello, World!\"\n",
        "reversed_string = string[::-1]\n",
        "print(reversed_string)\n"
      ],
      "metadata": {
        "id": "fT0AG0qwRIz9"
      },
      "execution_count": null,
      "outputs": []
    },
    {
      "cell_type": "markdown",
      "source": [
        "## 15) **Write a Python program to calculate the factorial of a number provided by the user using a while loop**"
      ],
      "metadata": {
        "id": "1MJQeBBbRaTp"
      }
    },
    {
      "cell_type": "code",
      "source": [
        "# Function to calculate factorial using a while loop\n",
        "def factorial(n):\n",
        "    result = 1\n",
        "    while n > 1:\n",
        "        result *= n\n",
        "        n -= 1\n",
        "    return result\n",
        "\n",
        "# Example usage\n",
        "number = 5\n",
        "print(f\"The factorial of {number} is {factorial(number)}\")\n"
      ],
      "metadata": {
        "id": "Gbi7zKKARdNL"
      },
      "execution_count": null,
      "outputs": []
    },
    {
      "cell_type": "code",
      "source": [],
      "metadata": {
        "id": "L2O4HZQhPjV7"
      },
      "execution_count": null,
      "outputs": []
    }
  ]
}